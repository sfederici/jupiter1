{
 "cells": [
  {
   "cell_type": "markdown",
   "metadata": {
    "slideshow": {
     "slide_type": "slide"
    }
   },
   "source": [
    "# Python In a Nutshell\n"
   ]
  },
  {
   "cell_type": "markdown",
   "metadata": {
    "nbpresent": {
     "id": "25901cac-0289-4573-af60-f47251052954"
    },
    "slideshow": {
     "slide_type": "slide"
    }
   },
   "source": [
    "## Why another programming language?\n",
    "\n",
    "**All Programming Languages are created equal **  ;-) \n",
    "\n",
    "Bohm & Jacopini demonstrate that any programming language that allows you to write\n",
    "\n",
    "- sequence\n",
    "- conditional structure\n",
    "- loops\n",
    "\n",
    "can compute any computable function \n",
    "\n",
    "[C. Bohm, e G. Jacopini,\n",
    "Flow Diagrams, Turing Machines and Languages with Only Two Formation Rules, in Communications of the ACM, 1966]\n"
   ]
  },
  {
   "cell_type": "markdown",
   "metadata": {
    "slideshow": {
     "slide_type": "slide"
    }
   },
   "source": [
    "But... sometimes we need the 'easy' way\n",
    "\n",
    "\"**Economy of effort. Never stand up when you can sit down, and never sit down when you can lie down**\"\n",
    "\n",
    "[Churchill, 1946] \n",
    "\n",
    "From this point of view, 'some programming languages are more equal than others' [Orwell, 1945]  \n",
    "\n"
   ]
  },
  {
   "cell_type": "markdown",
   "metadata": {
    "slideshow": {
     "slide_type": "slide"
    }
   },
   "source": [
    "Aim of this talk:\n",
    "    \n",
    "give you a 'taste' of Python\n",
    "\n",
    "show that \n",
    "\n",
    "- some tasks are very easy in python (compared to other programming languages)\n",
    "\n",
    "- python can be useful and handy to carry out Pattern Recognition tasks.\n",
    "\n"
   ]
  },
  {
   "cell_type": "markdown",
   "metadata": {
    "nbpresent": {
     "id": "1f1bd94e-4915-4685-8209-cbff718ee417"
    },
    "slideshow": {
     "slide_type": "slide"
    }
   },
   "source": [
    "# Development environment:\n",
    "\n",
    "IDE (**Pycharm**, Eclypse, Spyder, Wing Ide,...) (the usual way)\n",
    "\n",
    "or \n",
    "\n",
    "Jupyter notebook: an interactive environment"
   ]
  },
  {
   "cell_type": "markdown",
   "metadata": {
    "nbpresent": {
     "id": "697a6722-a618-4600-9db4-b2465853e680"
    },
    "slideshow": {
     "slide_type": "slide"
    }
   },
   "source": [
    "**Jupyter notebook** allows you to integrate in a single instrument \n",
    "\n",
    "* Comments LIKE THIS\n",
    "* Text with a *markup* **language**\n",
    "* Code\n",
    "* Output\n",
    "* ... and latex formulas: \n",
    "\n",
    "a= \\int_0^{+\\infty} f(x) dx\n",
    "\n",
    "$$ a= \\int_0^{+\\infty} f(x) dx$$\n"
   ]
  },
  {
   "cell_type": "code",
   "execution_count": 2,
   "metadata": {
    "slideshow": {
     "slide_type": "slide"
    }
   },
   "outputs": [
    {
     "name": "stdout",
     "output_type": "stream",
     "text": [
      "20\n"
     ]
    }
   ],
   "source": [
    "# EXAMPLE\n",
    "# COMMENTS\n",
    "a=10\n",
    "a=a*2\n",
    "print(a)"
   ]
  },
  {
   "cell_type": "markdown",
   "metadata": {
    "nbpresent": {
     "id": "514df14f-3e5c-493e-82a2-f8641cb3787d"
    },
    "slideshow": {
     "slide_type": "slide"
    }
   },
   "source": [
    "## Unstructured Variables"
   ]
  },
  {
   "cell_type": "code",
   "execution_count": 2,
   "metadata": {
    "nbpresent": {
     "id": "ccdd76cf-c59b-4726-9085-7047f4cca8bd"
    },
    "slideshow": {
     "slide_type": "-"
    }
   },
   "outputs": [
    {
     "name": "stdout",
     "output_type": "stream",
     "text": [
      "1 : <class 'int'>\n",
      "1.0 : <class 'float'>\n",
      "Newton : <class 'str'>\n",
      "(1+2j) : <class 'complex'>\n"
     ]
    }
   ],
   "source": [
    "# there is no need to declare the variables\n",
    "# the type is associate to the VALUE, not to the variable (dynamically typed)\n",
    "#  It depends on the value that we assign\n",
    "\n",
    "\n",
    "a=1       # integer\n",
    "print (a, ':', type(a))\n",
    "b=1.0     # float\n",
    "print (b, ':', type(b))\n",
    "c='Newton' # string\n",
    "print (c, ':', type(c))\n",
    "z=1+2*1j  # complex\n",
    "print (z, ':', type(z))\n"
   ]
  },
  {
   "cell_type": "markdown",
   "metadata": {
    "slideshow": {
     "slide_type": "slide"
    }
   },
   "source": [
    "## Structured Variables: LIST"
   ]
  },
  {
   "cell_type": "code",
   "execution_count": 3,
   "metadata": {
    "nbpresent": {
     "id": "df1d4533-6074-4a6d-b524-c6f7463f55a5"
    },
    "slideshow": {
     "slide_type": "-"
    }
   },
   "outputs": [
    {
     "name": "stdout",
     "output_type": "stream",
     "text": [
      "[10, 20, 30, 40, 50]\n"
     ]
    }
   ],
   "source": [
    "## Ustructured Variables - LIST\n",
    "# ( a list of integer values...)\n",
    "list_1=[10, 20, 30, 40, 50] \n",
    "\n",
    "print (list_1)"
   ]
  },
  {
   "cell_type": "code",
   "execution_count": 4,
   "metadata": {
    "nbpresent": {
     "id": "dc861f91-325c-4ba8-b2ee-5a35865338bc"
    },
    "slideshow": {
     "slide_type": "slide"
    }
   },
   "outputs": [
    {
     "name": "stdout",
     "output_type": "stream",
     "text": [
      "is 20 in the list?  True\n",
      "is 200 in the list?  False\n"
     ]
    }
   ],
   "source": [
    "# The object 'list' provides several methods to manipulate list and elements:\n",
    "\n",
    "# is an element in the list? - OPERATOR IN\n",
    "\n",
    "print ('is 20 in the list? ',20 in list_1)\n",
    "print ('is 200 in the list? ',200 in list_1)"
   ]
  },
  {
   "cell_type": "code",
   "execution_count": 4,
   "metadata": {
    "nbpresent": {
     "id": "eea4efb0-6608-4a59-85b6-ce2f4ca11092"
    },
    "slideshow": {
     "slide_type": "slide"
    }
   },
   "outputs": [
    {
     "name": "stdout",
     "output_type": "stream",
     "text": [
      "50\n"
     ]
    }
   ],
   "source": [
    "# what is the element in this position? \n",
    "list_1=[10, 20, 30, 40, 50] \n",
    "idx=-1\n",
    "print (list_1[idx])"
   ]
  },
  {
   "cell_type": "code",
   "execution_count": 6,
   "metadata": {
    "nbpresent": {
     "id": "03ecdef1-1c4d-46bc-b024-4b54510e3808"
    },
    "slideshow": {
     "slide_type": "-"
    }
   },
   "outputs": [
    {
     "name": "stdout",
     "output_type": "stream",
     "text": [
      "[20, 30]\n"
     ]
    }
   ],
   "source": [
    "# COLON operator: pick elements between two index\n",
    "# ->'elements between 1 and 3 (excluding 3)\n",
    "\n",
    "print (list_1[1:3])"
   ]
  },
  {
   "cell_type": "code",
   "execution_count": 7,
   "metadata": {
    "nbpresent": {
     "id": "5d1df038-b6d0-4e94-bb37-a7f58a6bfd4c"
    },
    "slideshow": {
     "slide_type": "-"
    }
   },
   "outputs": [
    {
     "name": "stdout",
     "output_type": "stream",
     "text": [
      "[10, 20, 30, 40, 50, 100]\n"
     ]
    }
   ],
   "source": [
    "# APPEND method: add an element to the list\n",
    "\n",
    "list_1.append(100)\n",
    "print (list_1)"
   ]
  },
  {
   "cell_type": "code",
   "execution_count": 8,
   "metadata": {
    "nbpresent": {
     "id": "993b6b09-c658-4343-b5e4-1c3e19dd7961"
    },
    "slideshow": {
     "slide_type": "slide"
    }
   },
   "outputs": [
    {
     "name": "stdout",
     "output_type": "stream",
     "text": [
      "[1, 'a', ['a', 'b', 'c', 'd'], [10, 20, 30, 40, 50, 100]]\n"
     ]
    }
   ],
   "source": [
    "# A list can contain everything, not only numbers.\n",
    "list_2=['a','b', 'c', 'd']\n",
    "list_3=[1, 'a', list_2, list_1]\n",
    "print (list_3)"
   ]
  },
  {
   "cell_type": "markdown",
   "metadata": {
    "slideshow": {
     "slide_type": "slide"
    }
   },
   "source": [
    "## Structured Variables: DICTIONARY"
   ]
  },
  {
   "cell_type": "code",
   "execution_count": 9,
   "metadata": {
    "nbpresent": {
     "id": "0f124440-202b-489f-a4c3-e842b6b24382"
    },
    "slideshow": {
     "slide_type": "-"
    }
   },
   "outputs": [
    {
     "name": "stdout",
     "output_type": "stream",
     "text": [
      "{'Mario Bianchi': 11220, 'Paolo Rossi': 22344}\n",
      "\n",
      "22344\n",
      "11220\n"
     ]
    }
   ],
   "source": [
    "# It is similar to STRUCT in C, \n",
    "# and it is composed of couples (key : value).\n",
    "\n",
    "diz={'Paolo Rossi':22344, 'Mario Bianchi': 11220}\n",
    "print (diz)\n",
    "print()\n",
    "print (diz['Paolo Rossi'])\n",
    "print (diz['Mario Bianchi'])"
   ]
  },
  {
   "cell_type": "markdown",
   "metadata": {
    "slideshow": {
     "slide_type": "slide"
    }
   },
   "source": [
    "\n",
    "Why dictionary should be useful in our work?\n",
    "\n",
    "If we collect biometric data, usually these numeric data are stored in an array.\n",
    "\n",
    "But could be useful to store even additional information about the acquisition.\n",
    "\n",
    "-> creation date, number of people we’ve enrolled, type of biometric...\n",
    "\n"
   ]
  },
  {
   "cell_type": "code",
   "execution_count": 4,
   "metadata": {
    "nbpresent": {
     "id": "a171f903-1545-4cd8-bdaf-a5c579ec1e98"
    },
    "slideshow": {
     "slide_type": "slide"
    }
   },
   "outputs": [
    {
     "name": "stdout",
     "output_type": "stream",
     "text": [
      "{'number of people': 200, 'version': 1.2, 'creation': 2014, 'biometric': 'FINGERPRINT'}\n"
     ]
    }
   ],
   "source": [
    "# example\n",
    "dataset={}\n",
    "dataset['creation']=2014\n",
    "dataset['version']=1.2\n",
    "dataset['number of people']=200\n",
    "dataset['biometric']='FINGERPRINT'\n",
    "#dataset['data']= ... (matrice delle features)\n",
    "\n",
    "print (dataset)"
   ]
  },
  {
   "cell_type": "markdown",
   "metadata": {
    "nbpresent": {
     "id": "110ab752-2b93-4e9f-b426-fc4ce7958e80"
    },
    "slideshow": {
     "slide_type": "slide"
    }
   },
   "source": [
    "## LOOPS\n",
    "\n",
    "We can compare a FOR loop in C vs a FOR loop in python"
   ]
  },
  {
   "cell_type": "markdown",
   "metadata": {
    "slideshow": {
     "slide_type": "slide"
    }
   },
   "source": [
    "Problem: print the numbers {10,15,20,7,14}\n",
    "\n",
    "The C approach use an index to scan the array and print all the values. \n",
    "\n",
    "BUT the index itself it is not necessary for the ‘logic’ of the problem. \n"
   ]
  },
  {
   "cell_type": "raw",
   "metadata": {
    "slideshow": {
     "slide_type": "slide"
    }
   },
   "source": [
    "#include <stdio.h>\n",
    "int main(){\n",
    "    int lunghezza=5;\n",
    "    int int_array[]={10,15,20,7,14};\n",
    "    int i;\n",
    "    for (i=0; i<lunghezza; i++){\n",
    "         printf (\"%d\\n\", int_array[i]);    }\n",
    "return 0;}\n",
    "\n",
    "DEFINE THE ARRAY -   DEFINE A COUNTER \n",
    "SET THE COUNTER TO 0 - INCREMENT THE COUNTER\n",
    "CHECK THE COUNTER\n",
    "-> you must use an index to scan the array and print all the values. \n",
    "-> The index itself is not necessary for the ‘logic’ of the problem. "
   ]
  },
  {
   "cell_type": "code",
   "execution_count": 11,
   "metadata": {
    "nbpresent": {
     "id": "b953563c-131c-4858-b4ba-b671b0e4b84b"
    },
    "slideshow": {
     "slide_type": "slide"
    }
   },
   "outputs": [
    {
     "name": "stdout",
     "output_type": "stream",
     "text": [
      "10\n",
      "15\n",
      "20\n",
      "7\n",
      "14\n"
     ]
    }
   ],
   "source": [
    "# PYTHON:\n",
    "# DEFINE THE LIST\n",
    "list_1=[10,15,20,7,14]\n",
    "for el in list_1:\n",
    "    print(el)\n",
    "# print each element ‘EL’ of the list, without make (explicit) use \n",
    "# of an additional index."
   ]
  },
  {
   "cell_type": "code",
   "execution_count": 12,
   "metadata": {
    "nbpresent": {
     "id": "19ea19e5-25f6-4df1-a0df-9d971be645d3"
    },
    "slideshow": {
     "slide_type": "slide"
    }
   },
   "outputs": [
    {
     "name": "stdout",
     "output_type": "stream",
     "text": [
      "10 A a\n",
      "15 E e\n",
      "20 I i\n",
      "7 O o\n",
      "14 U u\n"
     ]
    }
   ],
   "source": [
    "# FOR LOOP on N lists\n",
    "\n",
    "# If we have several lists (or arrays) of equal size, \n",
    "# we can print the i-th element of each list\n",
    "# without make (explicit) use of an additional index.\n",
    "\n",
    "\n",
    "list_a=[10,15,20,7,14]\n",
    "list_b=['A', 'E','I', 'O', 'U']\n",
    "list_c=['a','e', 'i', 'o', 'u']\n",
    "\n",
    "# //C version    \n",
    "# for (i=0; i<lunghezza; i++){\n",
    "#    printf (\"%d %d %d\\n\", list_a[i], list_b[i], list_c[i]);\n",
    "#    }\n",
    "\n",
    "for a,b,c in zip(list_a, list_b, list_c): \n",
    "    print (a,b,c)"
   ]
  },
  {
   "cell_type": "markdown",
   "metadata": {
    "nbpresent": {
     "id": "2dc81bdd-9812-4e2f-9cf0-f10cfadd0a97"
    },
    "slideshow": {
     "slide_type": "slide"
    }
   },
   "source": [
    "## List comprehension\n",
    "\n",
    "Create a new list using elements that meet a condition\n"
   ]
  },
  {
   "cell_type": "code",
   "execution_count": 13,
   "metadata": {
    "nbpresent": {
     "id": "e9f9f5d6-f820-47cf-bd7b-27f1626ffd87"
    },
    "slideshow": {
     "slide_type": "slide"
    }
   },
   "outputs": [
    {
     "name": "stdout",
     "output_type": "stream",
     "text": [
      "[0, 1, 2, 3, 4, 5, 6, 7, 8, 9]\n"
     ]
    }
   ],
   "source": [
    "list_1=list(range(10))\n",
    "print (list_1)\n",
    "\n",
    "# create a new list that contains squared values for each element,\n",
    "# only if the elements is greater than 5.\n",
    "    \n"
   ]
  },
  {
   "cell_type": "code",
   "execution_count": 14,
   "metadata": {
    "nbpresent": {
     "id": "d446414f-52d0-4803-b716-c95d17e3712e"
    },
    "slideshow": {
     "slide_type": "slide"
    }
   },
   "outputs": [
    {
     "name": "stdout",
     "output_type": "stream",
     "text": [
      "[36, 49, 64, 81]\n"
     ]
    }
   ],
   "source": [
    "# 'CLASSIC' approach\n",
    "squares=[]\n",
    "for x in list_1:\n",
    "    if x>5:\n",
    "        squares.append(x*x)\n",
    "print (squares)"
   ]
  },
  {
   "cell_type": "code",
   "execution_count": 15,
   "metadata": {
    "nbpresent": {
     "id": "13f4ab81-87db-467d-91a2-a5d21480cf7f"
    },
    "slideshow": {
     "slide_type": "slide"
    }
   },
   "outputs": [
    {
     "name": "stdout",
     "output_type": "stream",
     "text": [
      "[36, 49, 64, 81]\n"
     ]
    }
   ],
   "source": [
    "# Pythonic way\n",
    "squares = [x**2 for x in list_1 if x>5]\n",
    "print (squares)\n",
    "\n",
    "# The two solutions are equal, but the second one is more compact.\n"
   ]
  },
  {
   "cell_type": "markdown",
   "metadata": {
    "nbpresent": {
     "id": "3d3acf04-e2c4-4340-9c9f-03aa692a835a"
    },
    "slideshow": {
     "slide_type": "-"
    }
   },
   "source": [
    "\n",
    "The two solutions are equal, but the second one is more compact.\n"
   ]
  },
  {
   "cell_type": "markdown",
   "metadata": {
    "nbpresent": {
     "id": "cf2b65b4-41dd-492a-adb8-b98fff3f80e4"
    },
    "slideshow": {
     "slide_type": "slide"
    }
   },
   "source": [
    "## Numpy: Matlab without buying Matlab.\n",
    "\n",
    "http://docs.scipy.org/doc/numpy/\n"
   ]
  },
  {
   "cell_type": "code",
   "execution_count": 16,
   "metadata": {
    "collapsed": true,
    "nbpresent": {
     "id": "22bca80e-6ca1-4ccd-af54-46a2a6ddf302"
    },
    "slideshow": {
     "slide_type": "-"
    }
   },
   "outputs": [],
   "source": [
    "# The package NUMPY allows us to use a Matlab-like environment without buying Matlab.\n",
    "\n",
    "import numpy as np \n",
    "\n",
    "# tells to the Interpreter to use the package NUMPY, \n",
    "# and to use the alias np for reason of brevity."
   ]
  },
  {
   "cell_type": "markdown",
   "metadata": {
    "slideshow": {
     "slide_type": "slide"
    }
   },
   "source": [
    "## ARRAY and LINEAR ALGEBRA"
   ]
  },
  {
   "cell_type": "code",
   "execution_count": 17,
   "metadata": {
    "nbpresent": {
     "id": "0fd294de-2deb-41d6-9d42-1c8aa2485d69"
    },
    "slideshow": {
     "slide_type": "-"
    }
   },
   "outputs": [
    {
     "name": "stdout",
     "output_type": "stream",
     "text": [
      "[[1 2 3]\n",
      " [4 5 6]] \n",
      "\n",
      " [ 0.55182379  0.07359807]\n"
     ]
    }
   ],
   "source": [
    "# an array...\n",
    "a= np.array([[1, 2, 3],[4,5,6]])\n",
    "\n",
    "# random numbers sampled from a Normal distribution.\n",
    "b= np.random.randn(2,)\n",
    "print (a,'\\n\\n',b)"
   ]
  },
  {
   "cell_type": "markdown",
   "metadata": {
    "nbpresent": {
     "id": "76a7ce59-5fc5-49ac-9e16-669ee70a36ff"
    },
    "slideshow": {
     "slide_type": "slide"
    }
   },
   "source": [
    "Linear Algebra"
   ]
  },
  {
   "cell_type": "code",
   "execution_count": 18,
   "metadata": {
    "nbpresent": {
     "id": "e98f562e-3b50-4ca2-b55e-b25158934532"
    },
    "slideshow": {
     "slide_type": "-"
    }
   },
   "outputs": [
    {
     "name": "stdout",
     "output_type": "stream",
     "text": [
      "-0.0919203827708\n"
     ]
    }
   ],
   "source": [
    "# dot product \n",
    "c= np.random.randn(2,)\n",
    "print(c.dot(b))"
   ]
  },
  {
   "cell_type": "code",
   "execution_count": 19,
   "metadata": {
    "nbpresent": {
     "id": "73c2cc88-9e55-404a-9499-329695c267c7"
    },
    "slideshow": {
     "slide_type": "-"
    }
   },
   "outputs": [
    {
     "data": {
      "text/plain": [
       "array([ 2.2952876 , -0.19616653, -0.04492626])"
      ]
     },
     "execution_count": 19,
     "metadata": {},
     "output_type": "execute_result"
    }
   ],
   "source": [
    "# Compute eigenvalues\n",
    "X=np.random.rand(3,3)\n",
    "np.linalg.eigvals(X)"
   ]
  },
  {
   "cell_type": "markdown",
   "metadata": {
    "slideshow": {
     "slide_type": "slide"
    }
   },
   "source": [
    "Other functions"
   ]
  },
  {
   "cell_type": "code",
   "execution_count": 20,
   "metadata": {
    "nbpresent": {
     "id": "3810aaa4-1f74-41b0-9e5f-c4b29334deb8"
    },
    "slideshow": {
     "slide_type": "-"
    }
   },
   "outputs": [
    {
     "name": "stdout",
     "output_type": "stream",
     "text": [
      "[1 3 5 7 9]\n"
     ]
    }
   ],
   "source": [
    "d=np.arange(1,10,2)\n",
    "print (d)"
   ]
  },
  {
   "cell_type": "code",
   "execution_count": 21,
   "metadata": {
    "nbpresent": {
     "id": "e4afc213-010a-4a49-a629-b0acb653b7e2"
    },
    "slideshow": {
     "slide_type": "-"
    }
   },
   "outputs": [
    {
     "name": "stdout",
     "output_type": "stream",
     "text": [
      "25\n"
     ]
    }
   ],
   "source": [
    "# Sum all elements of a vector - \n",
    "# 'CLASSIC' approach\n",
    "s=0\n",
    "for el in d:\n",
    "    s=s+el\n",
    "print(s)"
   ]
  },
  {
   "cell_type": "code",
   "execution_count": 22,
   "metadata": {
    "nbpresent": {
     "id": "d0f17c24-f990-42e1-bf38-fa56479e645f"
    },
    "slideshow": {
     "slide_type": "slide"
    }
   },
   "outputs": [
    {
     "name": "stdout",
     "output_type": "stream",
     "text": [
      "25\n"
     ]
    }
   ],
   "source": [
    "# Pythonic way\n",
    "s=np.sum(d)\n",
    "print(s)\n"
   ]
  },
  {
   "cell_type": "code",
   "execution_count": 23,
   "metadata": {
    "collapsed": true,
    "slideshow": {
     "slide_type": "-"
    }
   },
   "outputs": [],
   "source": [
    "# The .sum() method compute the sum over all the elements of a vector. \n",
    "# We can obtain the same results using a FOR cycle, \n",
    "# but the .sum() method give us a more compact solution.\n",
    " \n",
    "# It is not only a matter of convenience. \n",
    "# A more concise and intuitive notation allows us \n",
    "# to focus on the problem at hand.\n"
   ]
  },
  {
   "cell_type": "markdown",
   "metadata": {
    "nbpresent": {
     "id": "fee35d98-a52e-472d-86a5-6abf623c3f8f"
    },
    "slideshow": {
     "slide_type": "slide"
    }
   },
   "source": [
    "With NumPy arrays, you can achieve significant performance speedups \n",
    "\n",
    "particularly when your computations follow the \n",
    "\n",
    "**Single Instruction, Multiple Data (SIMD)** paradigm."
   ]
  },
  {
   "cell_type": "code",
   "execution_count": 24,
   "metadata": {
    "nbpresent": {
     "id": "30fdec53-76a2-4e19-a5ac-038340694a70"
    },
    "slideshow": {
     "slide_type": "slide"
    }
   },
   "outputs": [
    {
     "name": "stdout",
     "output_type": "stream",
     "text": [
      "X\n",
      "\n",
      " [[ 0  1  2  3  4  5  6  7]\n",
      " [ 8  9 10 11 12 13 14 15]\n",
      " [16 17 18 19 20 21 22 23]\n",
      " [24 25 26 27 28 29 30 31]]\n"
     ]
    }
   ],
   "source": [
    "# given an array X, we wish to apply the same operation to each entry.\n",
    "\n",
    "# - compute the mean of each row.\n",
    "# - subtract from each element the mean of the row.\n",
    "\n",
    "X = np.arange(32).reshape(4,8)\n",
    "\n",
    "print ('X\\n\\n',X)"
   ]
  },
  {
   "cell_type": "markdown",
   "metadata": {
    "nbpresent": {
     "id": "20b1c43e-5185-4533-b71d-089ab702d623"
    },
    "slideshow": {
     "slide_type": "slide"
    }
   },
   "source": [
    "|    |    |    |    |    |    |    |    |\n",
    "|----|----|----|----|----|----|----|----|\n",
    "| 0  | 1  | 2  | 3  | 4  | 5  | 6  | 7  |  -> mean0\n",
    "| 8  | 9  | 10 | 11 | 12 | 13 | 14 | 15 |  -> mean1 \n",
    "| 16 | 17 | 18 | 19 | 20 | 21 | 22 | 23 |  -> mean2\n",
    "| 24 | 25 | 26 | 27 | 28 | 29 | 30 | 31 |  -> mean3\n",
    "\n",
    "\n",
    "\n",
    "\n",
    "\n"
   ]
  },
  {
   "cell_type": "code",
   "execution_count": 25,
   "metadata": {
    "nbpresent": {
     "id": "c8a8a1fd-69d6-4740-9a2b-da0cad893a3f"
    },
    "slideshow": {
     "slide_type": "slide"
    }
   },
   "outputs": [
    {
     "name": "stdout",
     "output_type": "stream",
     "text": [
      "values\n",
      "\n",
      " [  3.5  11.5  19.5  27.5]\n"
     ]
    }
   ],
   "source": [
    "# 'CLASSIC' approach\n",
    "# compute the mean \n",
    "myMean=np.zeros(4)\n",
    "for r in range(4):\n",
    "    tmp=0\n",
    "    for c in range(8):\n",
    "        tmp=tmp+X[r,c]\n",
    "    myMean[r]=tmp/8\n",
    "print('values\\n\\n',myMean)\n",
    " "
   ]
  },
  {
   "cell_type": "code",
   "execution_count": 26,
   "metadata": {
    "nbpresent": {
     "id": "cc5d583b-8e07-4712-879d-6d81272df9bb"
    },
    "slideshow": {
     "slide_type": "slide"
    }
   },
   "outputs": [
    {
     "name": "stdout",
     "output_type": "stream",
     "text": [
      "X1\n",
      "\n",
      " [[-3.5 -2.5 -1.5 -0.5  0.5  1.5  2.5  3.5]\n",
      " [-3.5 -2.5 -1.5 -0.5  0.5  1.5  2.5  3.5]\n",
      " [-3.5 -2.5 -1.5 -0.5  0.5  1.5  2.5  3.5]\n",
      " [-3.5 -2.5 -1.5 -0.5  0.5  1.5  2.5  3.5]]\n"
     ]
    }
   ],
   "source": [
    "# subtract the mean\n",
    "X1 = np.zeros([4, 8])\n",
    "for r in range(4):\n",
    "    for c in range(8):\n",
    "        X1[r,c]=X[r,c]-myMean[r]\n",
    "print ('X1\\n\\n',X1)"
   ]
  },
  {
   "cell_type": "code",
   "execution_count": 27,
   "metadata": {
    "nbpresent": {
     "id": "4a938d8b-8b79-4630-b0c1-0bf61bf368b9"
    },
    "scrolled": true,
    "slideshow": {
     "slide_type": "slide"
    }
   },
   "outputs": [],
   "source": [
    "# The ‘pythonic’ way is very simple and compact: \n",
    "\n",
    "# method .mean():   computes the mean. \n",
    "#   Parameters tell to the method if we wish to compute a mean for each row, \n",
    "#   or for each column, or a single value for the whole array. \n",
    "\n",
    "myMean=X.mean(axis=1,keepdims=True)\n",
    "\n",
    "X1=X-myMean # subtracts from each element the mean computed on the correct row.\n"
   ]
  },
  {
   "cell_type": "code",
   "execution_count": 28,
   "metadata": {
    "slideshow": {
     "slide_type": "slide"
    }
   },
   "outputs": [
    {
     "name": "stdout",
     "output_type": "stream",
     "text": [
      "mean\n",
      "\n",
      " [[  3.5]\n",
      " [ 11.5]\n",
      " [ 19.5]\n",
      " [ 27.5]]\n",
      "\n",
      "X1\n",
      "\n",
      " [[-3.5 -2.5 -1.5 -0.5  0.5  1.5  2.5  3.5]\n",
      " [-3.5 -2.5 -1.5 -0.5  0.5  1.5  2.5  3.5]\n",
      " [-3.5 -2.5 -1.5 -0.5  0.5  1.5  2.5  3.5]\n",
      " [-3.5 -2.5 -1.5 -0.5  0.5  1.5  2.5  3.5]]\n"
     ]
    }
   ],
   "source": [
    "print('mean\\n\\n',myMean)\n",
    "print('\\nX1\\n\\n',X1)"
   ]
  }
 ],
 "metadata": {
  "anaconda-cloud": {},
  "celltoolbar": "Slideshow",
  "kernelspec": {
   "display_name": "Python [default]",
   "language": "python",
   "name": "python3"
  },
  "language_info": {
   "codemirror_mode": {
    "name": "ipython",
    "version": 3
   },
   "file_extension": ".py",
   "mimetype": "text/x-python",
   "name": "python",
   "nbconvert_exporter": "python",
   "pygments_lexer": "ipython3",
   "version": "3.5.4"
  },
  "nbpresent": {
   "slides": {},
   "themes": {}
  }
 },
 "nbformat": 4,
 "nbformat_minor": 1
}
